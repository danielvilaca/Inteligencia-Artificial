{
  "nbformat": 4,
  "nbformat_minor": 0,
  "metadata": {
    "colab": {
      "provenance": [],
      "include_colab_link": true
    },
    "kernelspec": {
      "name": "python3",
      "display_name": "Python 3"
    },
    "language_info": {
      "name": "python"
    }
  },
  "cells": [
    {
      "cell_type": "markdown",
      "metadata": {
        "id": "view-in-github",
        "colab_type": "text"
      },
      "source": [
        "<a href=\"https://colab.research.google.com/github/danielvilaca/InteligenciaArtificial/blob/main/Informed_Search_Examples.ipynb\" target=\"_parent\"><img src=\"https://colab.research.google.com/assets/colab-badge.svg\" alt=\"Open In Colab\"/></a>"
      ]
    },
    {
      "cell_type": "markdown",
      "source": [
        " # Introduction to informed search methods\n",
        "\n",
        " This notebook does a simple implementation of **Greedy Search** and **A* Search** informed search methods.\n",
        "\n",
        " **Important note:**\n",
        "\n",
        "The Python code was created with the help of a generative AI assistant, so some fragments were drafted based on code taken from web."
      ],
      "metadata": {
        "id": "X7ypbiK8xi-V"
      }
    },
    {
      "cell_type": "code",
      "source": [
        "# This module provides an implementation of the heap queue algorithm\n",
        "import heapq"
      ],
      "metadata": {
        "id": "RHcFInixQL4c"
      },
      "execution_count": null,
      "outputs": []
    },
    {
      "cell_type": "markdown",
      "source": [
        "## 8 logic puzzle problem\n"
      ],
      "metadata": {
        "id": "X9fpwr9NRsnH"
      }
    },
    {
      "cell_type": "code",
      "source": [
        "# Example usage,\n",
        "initial_state = [1, 2, 3, 4, 0, 6, 7, 5, 8]\n",
        "# initial_state = [1, 2, 0, 3, 4, 6, 7, 5, 8]\n",
        "goal_state = [1, 2, 3, 4, 5, 6, 7, 8, 0]"
      ],
      "metadata": {
        "id": "qyLskuvRR31g"
      },
      "execution_count": null,
      "outputs": []
    },
    {
      "cell_type": "markdown",
      "source": [
        "## Heuristics\n"
      ],
      "metadata": {
        "id": "E6PIbiBsSQPx"
      }
    },
    {
      "cell_type": "code",
      "source": [
        "# Calculates the number of tiles in the wrong position.\n",
        "def heuristic01 (state, goal_state):\n",
        "  count = 0\n",
        "  for i in range(len(state)):\n",
        "    if state[i] != goal_state[i]:\n",
        "      count += 1\n",
        "  return count\n",
        "\n",
        "# Calculates the Manhattan distance heuristic.\n",
        "def heuristic02 (state, goal_state):\n",
        "  distance = 0\n",
        "  for i in range(len(state)):\n",
        "    if state[i] != 0:\n",
        "      goal_index = goal_state.index(state[i])\n",
        "      goal_row, goal_col = divmod(goal_index, 3)\n",
        "      current_row, current_col = divmod(i, 3)\n",
        "      distance += abs(goal_row - current_row) + abs(goal_col - current_col)\n",
        "  return distance"
      ],
      "metadata": {
        "id": "u4F-XUdNSe35"
      },
      "execution_count": null,
      "outputs": []
    },
    {
      "cell_type": "markdown",
      "source": [
        "### Greedy-Search"
      ],
      "metadata": {
        "id": "fQFsLY7SyGZi"
      }
    },
    {
      "cell_type": "code",
      "source": [
        "def greedy_search(initial_state, goal_state, heuristic):\n",
        "  \"\"\"\n",
        "  Performs a greedy search to solve the 8-puzzle.\n",
        "  Returns a list of moves to reach the goal state, or None if no solution is found.\n",
        "  \"\"\"\n",
        "\n",
        "  # Initializes queue and visited states set\n",
        "  priority_queue = [(heuristic(initial_state, goal_state), initial_state, [])]\n",
        "  visited = set()\n",
        "\n",
        "  while priority_queue:\n",
        "    _, current_state, path = heapq.heappop(priority_queue)\n",
        "\n",
        "    if current_state == goal_state:\n",
        "      return path\n",
        "\n",
        "    if tuple(current_state) in visited:\n",
        "      continue\n",
        "    visited.add(tuple(current_state))\n",
        "\n",
        "    # Generate possible moves\n",
        "    zero_index = current_state.index(0)\n",
        "    row, col = divmod(zero_index, 3)\n",
        "    possible_moves = []\n",
        "    if row > 0:\n",
        "      possible_moves.append(-3)  # Move up\n",
        "    if row < 2:\n",
        "      possible_moves.append(3)  # Move down\n",
        "    if col > 0:\n",
        "      possible_moves.append(-1)  # Move left\n",
        "    if col < 2:\n",
        "      possible_moves.append(1)  # Move right\n",
        "\n",
        "    # Executes the moves\n",
        "    for move in possible_moves:\n",
        "      new_state = current_state[:]\n",
        "      new_index = zero_index + move\n",
        "      new_state[zero_index], new_state[new_index] = new_state[new_index], new_state[zero_index]\n",
        "      new_path = path + [move]\n",
        "      heapq.heappush(priority_queue, (heuristic(new_state, goal_state),\n",
        "                                      new_state, new_path))\n",
        "\n",
        "  return None  # No solution found"
      ],
      "metadata": {
        "id": "Ht8g4Zyhiqj9"
      },
      "execution_count": null,
      "outputs": []
    },
    {
      "cell_type": "markdown",
      "source": [
        "### A* Search"
      ],
      "metadata": {
        "id": "NMekrpFB7reG"
      }
    },
    {
      "cell_type": "code",
      "source": [
        "def a_star_search(initial_state, goal_state, heuristic):\n",
        "  \"\"\"\n",
        "  Performs an A* search to solve the 8-puzzle.\n",
        "  Returns a list of moves to reach the goal state, or None if no solution is found.\n",
        "  \"\"\"\n",
        "\n",
        "  # Calculates the cost of the path.\n",
        "  def path_cost(path):\n",
        "    return len(path)\n",
        "\n",
        "  # Initializes queue and visited states set\n",
        "  priority_queue = [(heuristic(initial_state, goal_state) + path_cost([]),\n",
        "                     heuristic(initial_state, goal_state), initial_state, [])]\n",
        "  print (priority_queue)\n",
        "  visited = set()\n",
        "\n",
        "  while priority_queue:\n",
        "    _, current_heuristic, current_state, path = heapq.heappop(priority_queue)\n",
        "\n",
        "    if current_state == goal_state:\n",
        "      return path\n",
        "\n",
        "    if tuple(current_state) in visited:\n",
        "      continue\n",
        "    visited.add(tuple(current_state))\n",
        "\n",
        "    # Generate possible moves\n",
        "    zero_index = current_state.index(0)\n",
        "    row, col = divmod(zero_index, 3)        # gets the (row, col) of cell 0\n",
        "    possible_moves = []\n",
        "    if row > 0:\n",
        "      possible_moves.append(-3)  # Move up\n",
        "    if row < 2:\n",
        "      possible_moves.append(3)  # Move down\n",
        "    if col > 0:\n",
        "      possible_moves.append(-1)  # Move left\n",
        "    if col < 2:\n",
        "      possible_moves.append(1)  # Move right\n",
        "\n",
        "    for move in possible_moves:\n",
        "      new_state = current_state[:]\n",
        "      new_index = zero_index + move\n",
        "      new_state[zero_index], new_state[new_index] = new_state[new_index], new_state[zero_index]\n",
        "      new_path = path + [move]\n",
        "      heapq.heappush(priority_queue, (heuristic(new_state, goal_state) + path_cost(new_path),\n",
        "                                      heuristic(new_state, goal_state), new_state, new_path))\n",
        "\n",
        "  return None  # No solution found\n"
      ],
      "metadata": {
        "id": "ef44-WlqmaKD"
      },
      "execution_count": null,
      "outputs": []
    },
    {
      "cell_type": "markdown",
      "source": [
        "### Print"
      ],
      "metadata": {
        "id": "qaDSuOZj1-Sv"
      }
    },
    {
      "cell_type": "code",
      "source": [
        "# prompt: Develop an example that uses previous block greedy function.\n",
        "# Print the solution showing for each step the tile/number and the move name\n",
        "\n",
        "def print_solution(solution, initial_state):\n",
        "  \"\"\"Prints the solution path for the 8-puzzle.\"\"\"\n",
        "  current_state = initial_state[:]\n",
        "  print(\"Initial State:\")\n",
        "  print_puzzle(current_state)\n",
        "\n",
        "  move_names = {\n",
        "      -3: \"Up\",\n",
        "      3: \"Down\",\n",
        "      -1: \"Left\",\n",
        "      1: \"Right\"\n",
        "  }\n",
        "\n",
        "  for move in solution:\n",
        "    zero_index = current_state.index(0)\n",
        "    new_index = zero_index + move\n",
        "    current_state[zero_index], current_state[new_index] = current_state[new_index], current_state[zero_index]\n",
        "    print(f\"Move: {move_names[move]}\")\n",
        "    print_puzzle(current_state)\n",
        "\n",
        "\n",
        "def print_puzzle(state):\n",
        "  \"\"\"Prints the 8-puzzle state in a readable format.\"\"\"\n",
        "  for i in range(0, 9, 3):\n",
        "    print(state[i:i + 3])"
      ],
      "metadata": {
        "id": "4kmV106_jbL_"
      },
      "execution_count": null,
      "outputs": []
    },
    {
      "cell_type": "markdown",
      "source": [
        "### Run the algorithms"
      ],
      "metadata": {
        "id": "OlUIWcE0nfVv"
      }
    },
    {
      "cell_type": "code",
      "source": [
        "# Run the uncommented algorithm call\n",
        "solution = greedy_search(initial_state, goal_state, heuristic01)\n",
        "# solution = a_star_search(initial_state, goal_state, heuristic01)\n",
        "\n",
        "if solution:\n",
        "  print(\"Solution found: \")\n",
        "  print_solution(solution, initial_state)\n",
        "else:\n",
        "  print(\"No solution found.\")"
      ],
      "metadata": {
        "id": "KKrerbzVm8ji",
        "collapsed": true
      },
      "execution_count": null,
      "outputs": []
    },
    {
      "cell_type": "markdown",
      "source": [
        "---\n",
        "## Exercise: salesman problem\n",
        "Based on the existing code, implement the solver for the Salesman problem.\n",
        "Please use the example provided in the slides about [informed search](https://docs.google.com/presentation/d/1hF5bexyTH1Tmln6F_Y8IlMq88md3iJHD2AP2fendl3o/edit?usp=sharing) about the best route from Arad to Bucharest."
      ],
      "metadata": {
        "id": "g0iD7SLZ1zYy"
      }
    },
    {
      "cell_type": "code",
      "source": [],
      "metadata": {
        "id": "5emgxFfAXla7"
      },
      "execution_count": null,
      "outputs": []
    }
  ]
}