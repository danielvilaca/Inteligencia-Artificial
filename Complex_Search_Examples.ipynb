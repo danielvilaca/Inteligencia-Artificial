{
  "nbformat": 4,
  "nbformat_minor": 0,
  "metadata": {
    "colab": {
      "provenance": [],
      "include_colab_link": true
    },
    "kernelspec": {
      "name": "python3",
      "display_name": "Python 3"
    },
    "language_info": {
      "name": "python"
    }
  },
  "cells": [
    {
      "cell_type": "markdown",
      "metadata": {
        "id": "view-in-github",
        "colab_type": "text"
      },
      "source": [
        "<a href=\"https://colab.research.google.com/github/danielvilaca/Inteligencia-Artificial/blob/main/Complex_Search_Examples.ipynb\" target=\"_parent\"><img src=\"https://colab.research.google.com/assets/colab-badge.svg\" alt=\"Open In Colab\"/></a>"
      ]
    },
    {
      "cell_type": "markdown",
      "source": [
        " # Introduction to local search methods\n",
        "\n",
        " This notebook provides a simple implementation of **hill-clibing** and **local beam** search methods.\n",
        "\n",
        " **Important note:**\n",
        "\n",
        "The Python code was created with the help of a generative AI assistant, so some fragments were drafted based on code taken from web."
      ],
      "metadata": {
        "id": "X7ypbiK8xi-V"
      }
    },
    {
      "cell_type": "markdown",
      "source": [
        "### Common functions definition"
      ],
      "metadata": {
        "id": "fPdeiBMOdqfW"
      }
    },
    {
      "cell_type": "code",
      "source": [
        "# Imports\n",
        "import random\n",
        "\n",
        "# Checks if it is safe to place a queen at the given position.\n",
        "def is_safe(board, row, col):\n",
        "  for i in range(row):\n",
        "    if board[i] == col or \\\n",
        "       abs(board[i] - col) == row - i:\n",
        "      return False\n",
        "  return True\n",
        "\n",
        "# Calculates the number of conflicts in the current board.\n",
        "def evaluate(board):\n",
        "  conflicts = 0\n",
        "  for i in range(len(board)):\n",
        "    for j in range(i + 1, len(board)):\n",
        "      if board[i] == board[j] or \\\n",
        "         abs(board[i] - board[j]) == j - i:\n",
        "        conflicts += 1\n",
        "  return conflicts"
      ],
      "metadata": {
        "id": "7wemuZy8d1Gf"
      },
      "execution_count": 2,
      "outputs": []
    },
    {
      "cell_type": "markdown",
      "source": [
        "### Hill-clibing search"
      ],
      "metadata": {
        "id": "vNbXa4X9cwrM"
      }
    },
    {
      "cell_type": "code",
      "source": [
        "# Source: https://github.com/Mayur9167/AI_Puzzle_Solution\n",
        "\n",
        "def hill_climbing(board_size):\n",
        "  \"\"\"Performs the hill climbing algorithm for the n-queens problem.\"\"\"\n",
        "  current_board = [random.randint(0, board_size - 1) for _ in range(board_size)]\n",
        "  current_cost = evaluate(current_board)\n",
        "  print(current_board)\n",
        "\n",
        "  while True:\n",
        "    neighbors = []\n",
        "    for i in range(board_size):\n",
        "      for j in range(board_size):\n",
        "        if current_board[i] != j:\n",
        "          neighbor_board = list(current_board)\n",
        "          neighbor_board[i] = j\n",
        "          neighbors.append(neighbor_board)\n",
        "\n",
        "    best_neighbor = None\n",
        "    best_neighbor_cost = float('inf')\n",
        "\n",
        "    for neighbor in neighbors:\n",
        "      neighbor_cost = evaluate(neighbor)\n",
        "      if neighbor_cost < best_neighbor_cost:\n",
        "        best_neighbor_cost = neighbor_cost\n",
        "        best_neighbor = neighbor\n",
        "\n",
        "    if best_neighbor is None or best_neighbor_cost >= current_cost:\n",
        "      return current_board, current_cost\n",
        "\n",
        "    current_board = best_neighbor\n",
        "    current_cost = best_neighbor_cost"
      ],
      "metadata": {
        "id": "dlelDZe-ioRe"
      },
      "execution_count": 3,
      "outputs": []
    },
    {
      "cell_type": "markdown",
      "source": [
        "### Local beam search\n"
      ],
      "metadata": {
        "id": "a3yzSCQGcoFO"
      }
    },
    {
      "cell_type": "code",
      "source": [
        "# Source:  https://github.com/Mayur9167/AI_Puzzle_Solution\n",
        "\n",
        "def local_beam_search(board_size, beam_width):\n",
        "  \"\"\"Performs the local beam search algorithm for the n-queens problem.\"\"\"\n",
        "  current_boards = [[random.randint(0, board_size - 1) for _ in range(board_size)] for _ in range(beam_width)]\n",
        "  current_costs = [evaluate(board) for board in current_boards]\n",
        "\n",
        "  while True:\n",
        "    neighbors = []\n",
        "    for board in current_boards:\n",
        "      for i in range(board_size):\n",
        "        for j in range(board_size):\n",
        "          if board[i] != j:\n",
        "            neighbor_board = list(board)\n",
        "            neighbor_board[i] = j\n",
        "            neighbors.append(neighbor_board)\n",
        "\n",
        "    neighbor_costs = [evaluate(neighbor) for neighbor in neighbors]\n",
        "\n",
        "    sorted_neighbors = sorted(zip(neighbors, neighbor_costs), key=lambda x: x[1])\n",
        "    new_boards = [board for board, cost in sorted_neighbors[:beam_width]]\n",
        "    new_costs = [cost for board, cost in sorted_neighbors[:beam_width]]\n",
        "\n",
        "    if new_costs[0] == 0:\n",
        "      return new_boards[0], new_costs[0]\n",
        "\n",
        "    if new_costs == current_costs:\n",
        "      return current_boards[0], current_costs[0]\n",
        "\n",
        "\n",
        "    current_boards = new_boards\n",
        "    current_costs = new_costs"
      ],
      "metadata": {
        "id": "jFQ5tYWPirs6"
      },
      "execution_count": 13,
      "outputs": []
    },
    {
      "cell_type": "markdown",
      "source": [
        "### Run the algorithm"
      ],
      "metadata": {
        "id": "X-fYi_xqeFhq"
      }
    },
    {
      "cell_type": "code",
      "source": [
        "# Example usage for the 4-queens problem\n",
        "board_size = 8\n",
        "beam_width = 4\n",
        "\n",
        "# solution, cost = hill_climbing(board_size)\n",
        "solution, cost = local_beam_search(board_size, beam_width)\n",
        "\n",
        "if cost == 0:\n",
        "  print(\"Solution found:\")\n",
        "  for row in range(board_size):\n",
        "    line = \"\"\n",
        "    for col in range(board_size):\n",
        "      if solution[row] == col:\n",
        "        line += \"Q \"\n",
        "      else:\n",
        "        line += \". \"\n",
        "    print(line)\n",
        "else:\n",
        "  print(\"Local optimum found with\", cost, \"conflicts.\")\n"
      ],
      "metadata": {
        "colab": {
          "base_uri": "https://localhost:8080/"
        },
        "id": "ktr4IRsNeJ4U",
        "outputId": "607994c8-5e5d-4c7f-9860-5333df263cb2"
      },
      "execution_count": 14,
      "outputs": [
        {
          "output_type": "stream",
          "name": "stdout",
          "text": [
            "Solution found:\n",
            ". . . Q . . . . \n",
            ". Q . . . . . . \n",
            ". . . . . . Q . \n",
            ". . . . Q . . . \n",
            "Q . . . . . . . \n",
            ". . . . . . . Q \n",
            ". . . . . Q . . \n",
            ". . Q . . . . . \n"
          ]
        }
      ]
    },
    {
      "cell_type": "markdown",
      "source": [
        "---\n",
        "## Exercises\n",
        "1. Is local search applicable to finding a solution for the next problemas?\n",
        "  * 8 puzzle\n",
        "  * Traveling salesman\n",
        "\n",
        "2. Create a function that runs an algorithm n times (default = 100) and counts the number o successes and failures (local optimums).\n",
        "\n",
        "3. Run the function and analyse the results, comparing the two algorithms.\n",
        "\n",
        "4. How can you improve the results obtained?"
      ],
      "metadata": {
        "id": "cfuLEL68i9k8"
      }
    },
    {
      "cell_type": "code",
      "source": [],
      "metadata": {
        "id": "2-83lJeYlXA2"
      },
      "execution_count": 5,
      "outputs": []
    }
  ]
}