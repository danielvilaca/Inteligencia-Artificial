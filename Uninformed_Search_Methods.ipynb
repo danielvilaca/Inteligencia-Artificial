{
  "nbformat": 4,
  "nbformat_minor": 0,
  "metadata": {
    "colab": {
      "provenance": [],
      "include_colab_link": true
    },
    "kernelspec": {
      "name": "python3",
      "display_name": "Python 3"
    },
    "language_info": {
      "name": "python"
    }
  },
  "cells": [
    {
      "cell_type": "markdown",
      "metadata": {
        "id": "view-in-github",
        "colab_type": "text"
      },
      "source": [
        "<a href=\"https://colab.research.google.com/github/danielvilaca/InteligenciaArtificial/blob/main/Search_Methods_01.ipynb\" target=\"_parent\"><img src=\"https://colab.research.google.com/assets/colab-badge.svg\" alt=\"Open In Colab\"/></a>"
      ]
    },
    {
      "cell_type": "markdown",
      "source": [
        " # Introduction to solution search methods\n",
        "\n",
        " This notebook includes a simple implmentation of DFS and BFS uninformed search methods.\n",
        "\n",
        " **NOTE**: Python code created by generative AI assistant that should be gathered from some web sources"
      ],
      "metadata": {
        "id": "X7ypbiK8xi-V"
      }
    },
    {
      "cell_type": "markdown",
      "source": [
        "## Depth-First-Search (DFS)"
      ],
      "metadata": {
        "id": "fQFsLY7SyGZi"
      }
    },
    {
      "cell_type": "code",
      "source": [
        "# prompt: Develop a function to implement depth-first-search\n",
        "\n",
        "def dfs(graph, start_node):\n",
        "  \"\"\"\n",
        "  Performs a Depth-First Search (DFS) on a graph.\n",
        "\n",
        "  Args:\n",
        "    graph: A dictionary representing the graph where keys are nodes and values\n",
        "           are lists of their neighbors.\n",
        "    start_node: The node to start the DFS from.\n",
        "\n",
        "  Returns:\n",
        "    A list of nodes in the order they were visited during the DFS.\n",
        "  \"\"\"\n",
        "\n",
        "  visited = set()\n",
        "  traversal_order = []\n",
        "\n",
        "  def dfs_recursive(node):\n",
        "    visited.add(node)\n",
        "    traversal_order.append(node)\n",
        "\n",
        "    for neighbor in graph.get(node, []):\n",
        "      if neighbor not in visited:\n",
        "        dfs_recursive(neighbor)\n",
        "\n",
        "  dfs_recursive(start_node)\n",
        "  return traversal_order"
      ],
      "metadata": {
        "id": "xjQwlC2gxkdk"
      },
      "execution_count": null,
      "outputs": []
    },
    {
      "cell_type": "markdown",
      "source": [
        "## Breadth-First Search (BFS)"
      ],
      "metadata": {
        "id": "NMekrpFB7reG"
      }
    },
    {
      "cell_type": "code",
      "execution_count": null,
      "metadata": {
        "id": "hgXYyDnE7gxB"
      },
      "outputs": [],
      "source": [
        "# prompt: Develop a function to implement breadth-first-search\n",
        "\n",
        "from collections import deque\n",
        "\n",
        "def bfs(graph, start_node):\n",
        "  \"\"\"\n",
        "  Performs a Breadth-First Search (BFS) on a graph.\n",
        "\n",
        "  Args:\n",
        "    graph: A dictionary representing the graph where keys are nodes and values\n",
        "           are lists of their neighbors.\n",
        "    start_node: The node to start the BFS from.\n",
        "\n",
        "  Returns:\n",
        "    A list of nodes in the order they were visited during the BFS.\n",
        "  \"\"\"\n",
        "\n",
        "  visited = set()\n",
        "  traversal_order = []\n",
        "  queue = deque([start_node])\n",
        "  visited.add(start_node)\n",
        "\n",
        "  while queue:\n",
        "    node = queue.popleft()\n",
        "    traversal_order.append(node)\n",
        "\n",
        "    for neighbor in graph.get(node, []):\n",
        "      if neighbor not in visited:\n",
        "        visited.add(neighbor)\n",
        "        queue.append(neighbor)\n",
        "\n",
        "  return traversal_order"
      ]
    },
    {
      "cell_type": "markdown",
      "source": [
        "# Depth-Limited-Search (DLS)"
      ],
      "metadata": {
        "id": "AEwHj5wt-hEL"
      }
    },
    {
      "cell_type": "code",
      "source": [
        "# prompt: Develop a function to implement depth-limited-search\n",
        "\n",
        "def dls(graph, start_node, max_depth):\n",
        "  \"\"\"\n",
        "  Performs a Depth-Limited Search (DLS) on a graph.\n",
        "\n",
        "  Args:\n",
        "    graph: A dictionary representing the graph where keys are nodes and values\n",
        "           are lists of their neighbors.\n",
        "    start_node: The node to start the DLS from.\n",
        "    max_depth: The maximum depth to explore.\n",
        "\n",
        "  Returns:\n",
        "    A list of nodes in the order they were visited during the DLS.\n",
        "  \"\"\"\n",
        "\n",
        "  visited = set()\n",
        "  traversal_order = []\n",
        "\n",
        "  def dls_recursive(node, depth):\n",
        "    if depth > max_depth:\n",
        "      return\n",
        "\n",
        "    visited.add(node)\n",
        "    traversal_order.append(node)\n",
        "\n",
        "    for neighbor in graph.get(node, []):\n",
        "      if neighbor not in visited:\n",
        "        dls_recursive(neighbor, depth + 1)\n",
        "\n",
        "  dls_recursive(start_node, 0)\n",
        "  return traversal_order\n"
      ],
      "metadata": {
        "id": "ig1ANM4u-edZ"
      },
      "execution_count": 9,
      "outputs": []
    },
    {
      "cell_type": "markdown",
      "source": [
        "# Run DFS and BFS examples"
      ],
      "metadata": {
        "id": "qaDSuOZj1-Sv"
      }
    },
    {
      "cell_type": "code",
      "source": [
        "# Example graph represented as an adjacency list\n",
        "graph = {\n",
        "    'A': ['B', 'C'],\n",
        "    'B': ['D', 'E'],\n",
        "    'C': ['F'],\n",
        "    'D': ['G'],\n",
        "    'E': ['F'],\n",
        "    'F': [],\n",
        "    'G': []\n",
        "}\n",
        "\n",
        "start_node = 'A'\n",
        "traversal_order = dfs(graph, start_node)\n",
        "print(f\"DFS traversal starting from {start_node}: {traversal_order}\")\n",
        "\n",
        "start_node = 'A'\n",
        "traversal_order = bfs(graph, start_node)\n",
        "print(f\"BFS traversal starting from {start_node}: {traversal_order}\")\n",
        "\n",
        "start_node = 'A'\n",
        "traversal_order = dls(graph, start_node, 2)\n",
        "print(f\"DLS traversal starting from {start_node}: {traversal_order}\")\n"
      ],
      "metadata": {
        "id": "-eajISDr96TE",
        "colab": {
          "base_uri": "https://localhost:8080/"
        },
        "outputId": "887b9208-9ee1-446a-80e9-e330fa4356bc"
      },
      "execution_count": 11,
      "outputs": [
        {
          "output_type": "stream",
          "name": "stdout",
          "text": [
            "DFS traversal starting from A: ['A', 'B', 'D', 'G', 'E', 'F', 'C']\n",
            "BFS traversal starting from A: ['A', 'B', 'C', 'D', 'E', 'F', 'G']\n",
            "DLS traversal starting from A: ['A', 'B', 'D', 'E', 'C', 'F']\n"
          ]
        }
      ]
    },
    {
      "cell_type": "markdown",
      "source": [
        "## Exercise 01: Create a DLS function\n",
        "Based on the DFS code, implement a Depth-Limited Search (DLS) function"
      ],
      "metadata": {
        "id": "g0iD7SLZ1zYy"
      }
    },
    {
      "cell_type": "markdown",
      "source": [
        "## Exercise 02: Define a goal state and print the shortest path to the goal\n",
        "Complete DFS and BFS implementation code:\n",
        "* Define a goal state\n",
        "* Get and print the shortest path to the goal"
      ],
      "metadata": {
        "id": "4q7HGF2toPte"
      }
    },
    {
      "cell_type": "code",
      "source": [],
      "metadata": {
        "id": "GS2fk2O9o6xd"
      },
      "execution_count": null,
      "outputs": []
    }
  ]
}
